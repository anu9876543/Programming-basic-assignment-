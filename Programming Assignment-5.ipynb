{
 "cells": [
  {
   "cell_type": "code",
   "execution_count": 10,
   "id": "d9f03cf5",
   "metadata": {},
   "outputs": [
    {
     "name": "stdout",
     "output_type": "stream",
     "text": [
      "12\n",
      "35\n",
      "420\n"
     ]
    }
   ],
   "source": [
    "def lcm(a,b):\n",
    "    if a>b:\n",
    "        greater=a\n",
    "    else:\n",
    "        greater=b\n",
    "        while True:\n",
    "            if((greater%a==0)and(greater%b==0)):\n",
    "                lcm=greater\n",
    "                return lcm\n",
    "            greater+=1\n",
    "n1=int(input())\n",
    "n2=int(input())\n",
    "print(lcm(n1,n2))\n",
    "        "
   ]
  },
  {
   "cell_type": "code",
   "execution_count": 16,
   "id": "d5abf148",
   "metadata": {},
   "outputs": [
    {
     "name": "stdout",
     "output_type": "stream",
     "text": [
      "56\n",
      "78\n",
      "2\n"
     ]
    }
   ],
   "source": [
    "def hcf(a,b):\n",
    "    if a>b:\n",
    "        smaller=a\n",
    "    else:\n",
    "        smaller=b\n",
    "        for i in range(1,smaller+1):\n",
    "            if((a%i==0)and(b%i==0)):\n",
    "                hcf=i\n",
    "        return hcf\n",
    "n1=int(input())\n",
    "n2=int(input())\n",
    "print(hcf(n1,n2))"
   ]
  },
  {
   "cell_type": "code",
   "execution_count": 20,
   "id": "2afbf004",
   "metadata": {},
   "outputs": [
    {
     "name": "stdout",
     "output_type": "stream",
     "text": [
      "85\n",
      "0b1010101 in binary\n",
      "0o125 in octal\n",
      "0x55 in hexadecimal\n"
     ]
    }
   ],
   "source": [
    "n=int(input())\n",
    "print(bin(n),\"in binary\")\n",
    "print(oct(n),\"in octal\")\n",
    "print(hex(n),\"in hexadecimal\")\n"
   ]
  },
  {
   "cell_type": "code",
   "execution_count": 2,
   "id": "276fabb1",
   "metadata": {},
   "outputs": [
    {
     "name": "stdout",
     "output_type": "stream",
     "text": [
      "a\n",
      "The ASCII value of a is: 97\n"
     ]
    }
   ],
   "source": [
    "a=input()\n",
    "print(\"The ASCII value of\",a,\"is:\",ord(a))\n"
   ]
  },
  {
   "cell_type": "code",
   "execution_count": 5,
   "id": "52aa5adc",
   "metadata": {},
   "outputs": [
    {
     "name": "stdout",
     "output_type": "stream",
     "text": [
      "+\n",
      "13\n",
      "26\n",
      "39\n"
     ]
    }
   ],
   "source": [
    "a=input()\n",
    "if a=='+':\n",
    "    print(int(input())+int(input()))\n",
    "elif a=='-':\n",
    "    print(int(input())-int(input()))\n",
    "elif a=='*':\n",
    "    print(int(input())*int(input()))\n",
    "elif a=='/':\n",
    "    print(int(input())/int(input()))\n"
   ]
  }
 ],
 "metadata": {
  "kernelspec": {
   "display_name": "Python 3 (ipykernel)",
   "language": "python",
   "name": "python3"
  },
  "language_info": {
   "codemirror_mode": {
    "name": "ipython",
    "version": 3
   },
   "file_extension": ".py",
   "mimetype": "text/x-python",
   "name": "python",
   "nbconvert_exporter": "python",
   "pygments_lexer": "ipython3",
   "version": "3.9.7"
  }
 },
 "nbformat": 4,
 "nbformat_minor": 5
}
